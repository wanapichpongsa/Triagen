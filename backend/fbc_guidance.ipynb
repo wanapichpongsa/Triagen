{
 "cells": [
  {
   "cell_type": "code",
   "execution_count": 1,
   "metadata": {},
   "outputs": [],
   "source": [
    "import openai\n",
    "import requests\n",
    "import json"
   ]
  },
  {
   "cell_type": "code",
   "execution_count": 3,
   "metadata": {},
   "outputs": [],
   "source": [
    "with open('fbc_guidance.json', 'r') as file:\n",
    "    fbc_guidance = json.load(file)\n"
   ]
  },
  {
   "cell_type": "code",
   "execution_count": 2,
   "metadata": {},
   "outputs": [],
   "source": [
    "# Sample patient data (these values would typically come from a patient's lab report)\n",
    "patient_data = {\n",
    "    \"abnormality\": \"Anaemia\",   # could be \"Anaemia\", \"Polycythaemia\", etc.\n",
    "    \"gender\": \"male\",\n",
    "    \"hb\": 125,       # haemoglobin level\n",
    "    \"hct\": 0.50,     # haematocrit level\n",
    "    \"eosinophils\": 0.5,\n",
    "    \"lymphocyte_count\": 1.0,\n",
    "    \"neutrophil_count\": 0.9,\n",
    "    \"platelets\": 80\n",
    "}"
   ]
  },
  {
   "cell_type": "code",
   "execution_count": 4,
   "metadata": {},
   "outputs": [
    {
     "name": "stdout",
     "output_type": "stream",
     "text": [
      "Anaemia Referral: Refer if anaemia is severe, unexplained, or progressive\n"
     ]
    }
   ],
   "source": [
    "# Navigate the dictionary based on the abnormality and thresholds\n",
    "if patient_data[\"abnormality\"] == \"Anaemia\":\n",
    "    if patient_data[\"gender\"] == \"male\" and patient_data[\"hb\"] < 130:\n",
    "        referral = fbc_guidance[\"Anaemia\"][\"referral\"][\"haematologist\"]\n",
    "        print(\"Anaemia Referral:\", referral)\n",
    "    elif patient_data[\"gender\"] == \"female\" and patient_data[\"hb\"] < 115:\n",
    "        referral = fbc_guidance[\"Anaemia\"][\"referral\"][\"haematologist\"]\n",
    "        print(\"Anaemia Referral:\", referral)\n",
    "\n",
    "elif patient_data[\"abnormality\"] == \"Polycythaemia\":\n",
    "    if patient_data[\"gender\"] == \"male\" and patient_data[\"hb\"] > 185 and patient_data[\"hct\"] > 0.52:\n",
    "        referral = fbc_guidance[\"Polycythaemia\"][\"referral\"][\"haematologist\"]\n",
    "        print(\"Polycythaemia Referral:\", referral)\n",
    "    elif patient_data[\"gender\"] == \"female\" and patient_data[\"hb\"] > 160 and patient_data[\"hct\"] > 0.48:\n",
    "        referral = fbc_guidance[\"Polycythaemia\"][\"referral\"][\"haematologist\"]\n",
    "        print(\"Polycythaemia Referral:\", referral)\n",
    "\n",
    "elif patient_data[\"abnormality\"] == \"Eosinophilia\":\n",
    "    # Check if the level exceeds the urgent referral threshold\n",
    "    if patient_data[\"eosinophils\"] > 1.5:\n",
    "        referral = fbc_guidance[\"Eosinophilia\"][\"referral\"][\"haematologist\"]\n",
    "        print(\"Eosinophilia Referral:\", referral)\n",
    "\n",
    "elif patient_data[\"abnormality\"] == \"Lymphocytes\":\n",
    "    # Example: evaluating lymphocyte count for lymphopenia or lymphocytosis\n",
    "    if patient_data[\"lymphocyte_count\"] < 1.3:\n",
    "        referral = fbc_guidance[\"Lymphocytes\"][\"abnormalities\"][\"Lymphopenia\"][\"referral\"]\n",
    "        print(\"Lymphopenia Referral:\", referral)\n",
    "    elif patient_data[\"lymphocyte_count\"] > 20:\n",
    "        referral = fbc_guidance[\"Lymphocytes\"][\"abnormalities\"][\"Lymphocytosis\"][\"referral\"]\n",
    "        print(\"Lymphocytosis Referral:\", referral)\n",
    "\n",
    "elif patient_data[\"abnormality\"] == \"Neutrophils\":\n",
    "    if patient_data[\"neutrophil_count\"] < 1.0:\n",
    "        referral = fbc_guidance[\"Neutrophils\"][\"abnormalities\"][\"Neutropenia\"][\"referral\"][\"urgent\"]\n",
    "        print(\"Severe Neutropenia Referral:\", referral)\n",
    "    elif 1.0 <= patient_data[\"neutrophil_count\"] <= 1.5:\n",
    "        referral = fbc_guidance[\"Neutrophils\"][\"abnormalities\"][\"Neutropenia\"][\"referral\"][\"monitor\"]\n",
    "        print(\"Mild Neutropenia - Monitor and Repeat FBC:\", referral)\n",
    "    elif patient_data[\"neutrophil_count\"] > 15:\n",
    "        referral = fbc_guidance[\"Neutrophils\"][\"abnormalities\"][\"Neutrophilia\"][\"referral\"]\n",
    "        print(\"Neutrophilia Referral:\", referral)\n",
    "\n",
    "elif patient_data[\"abnormality\"] == \"Platelets\":\n",
    "    if patient_data[\"platelets\"] < 20:\n",
    "        referral = fbc_guidance[\"Platelets\"][\"abnormalities\"][\"Thrombocytopenia\"][\"referral\"][\"urgent\"]\n",
    "        print(\"Thrombocytopenia Urgent Referral:\", referral)\n",
    "    elif 50 <= patient_data[\"platelets\"] <= 100:\n",
    "        referral = fbc_guidance[\"Platelets\"][\"abnormalities\"][\"Thrombocytopenia\"][\"referral\"][\"monitor\"]\n",
    "        print(\"Thrombocytopenia - Monitor:\", referral)\n",
    "    elif patient_data[\"platelets\"] > 600 or patient_data[\"platelets\"] > 1000:\n",
    "        referral = fbc_guidance[\"Platelets\"][\"abnormalities\"][\"Thrombocytosis\"][\"referral\"][\"urgent\"]\n",
    "        print(\"Thrombocytosis Urgent Referral:\", referral)"
   ]
  }
 ],
 "metadata": {
  "kernelspec": {
   "display_name": "phd",
   "language": "python",
   "name": "python3"
  },
  "language_info": {
   "codemirror_mode": {
    "name": "ipython",
    "version": 3
   },
   "file_extension": ".py",
   "mimetype": "text/x-python",
   "name": "python",
   "nbconvert_exporter": "python",
   "pygments_lexer": "ipython3",
   "version": "3.11.10"
  }
 },
 "nbformat": 4,
 "nbformat_minor": 2
}
